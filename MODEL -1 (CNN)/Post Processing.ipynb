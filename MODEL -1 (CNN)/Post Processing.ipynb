{
  "nbformat": 4,
  "nbformat_minor": 2,
  "metadata": {
    "colab": {
      "name": "post model1.ipynb",
      "provenance": [],
      "collapsed_sections": []
    },
    "kernelspec": {
      "name": "python3",
      "display_name": "Python 3"
    },
    "language_info": {
      "name": "python"
    },
    "accelerator": "GPU"
  },
  "cells": [
    {
      "cell_type": "code",
      "execution_count": 27,
      "source": [
        "import matplotlib\r\n",
        "import matplotlib.pyplot as plt\r\n",
        "from matplotlib.patches import Rectangle\r\n",
        "import numpy as np"
      ],
      "outputs": [],
      "metadata": {
        "id": "WCgF-8XpkE-G"
      }
    },
    {
      "cell_type": "code",
      "execution_count": 28,
      "source": [
        "from google.colab import drive\r\n",
        "drive.mount('/content/drive')"
      ],
      "outputs": [
        {
          "output_type": "stream",
          "name": "stdout",
          "text": [
            "Drive already mounted at /content/drive; to attempt to forcibly remount, call drive.mount(\"/content/drive\", force_remount=True).\n"
          ]
        }
      ],
      "metadata": {
        "colab": {
          "base_uri": "https://localhost:8080/"
        },
        "id": "YKyGrvFz1hXj",
        "outputId": "33ea4a5e-d8db-4cc1-db54-9d2ede87f27c"
      }
    },
    {
      "cell_type": "code",
      "execution_count": 29,
      "source": [
        "#First we generate the piano roll from y_test_pred, that has been predicted by the model\r\n",
        "arr = np.load('/content/drive/MyDrive/final2.npy')\r\n",
        "print(np.shape(arr))"
      ],
      "outputs": [
        {
          "output_type": "stream",
          "name": "stdout",
          "text": [
            "(7136, 38, 88)\n"
          ]
        }
      ],
      "metadata": {
        "colab": {
          "base_uri": "https://localhost:8080/"
        },
        "id": "lXy6AX1qkMdw",
        "outputId": "a37ba713-a20e-4124-9323-991bea54bb54"
      }
    },
    {
      "cell_type": "code",
      "execution_count": 30,
      "source": [
        "#backtracking to convert 3D array to 2D\r\n",
        "X=[]\r\n",
        "i=0\r\n",
        "for i in range(7136):\r\n",
        "  if i==0:\r\n",
        "    X=arr[0]\r\n",
        "  else:\r\n",
        "    X=np.concatenate((X, arr[i]), axis=0)\r\n",
        "print(X.shape)"
      ],
      "outputs": [
        {
          "output_type": "stream",
          "name": "stdout",
          "text": [
            "(271168, 88)\n"
          ]
        }
      ],
      "metadata": {
        "colab": {
          "base_uri": "https://localhost:8080/"
        },
        "id": "-oyQ_cwy99at",
        "outputId": "34b3de0f-d610-406f-aa92-d71754b9b9b1"
      }
    },
    {
      "cell_type": "code",
      "execution_count": 31,
      "source": [
        "#converting boolean to binary matrix with entries 0 and 1\r\n",
        "arr2 = np.empty((271168, 88), dtype = int) \r\n",
        "for i in range(X.shape[0]):\r\n",
        "    for j in range(X.shape[1]):\r\n",
        "        if X[i,j]==False:\r\n",
        "            arr2[i,j]=int(0)\r\n",
        "            int(arr2[i,j])\r\n",
        "        elif X[i,j]==True:\r\n",
        "            arr2[i,j]=int(1)\r\n",
        "\r\n",
        "         \r\n",
        "print(arr2)"
      ],
      "outputs": [
        {
          "output_type": "stream",
          "name": "stdout",
          "text": [
            "[[0 0 0 ... 0 0 0]\n",
            " [0 0 0 ... 0 0 0]\n",
            " [0 0 0 ... 0 0 0]\n",
            " ...\n",
            " [0 0 0 ... 0 0 0]\n",
            " [0 0 0 ... 0 0 0]\n",
            " [0 0 0 ... 0 0 0]]\n"
          ]
        }
      ],
      "metadata": {
        "colab": {
          "base_uri": "https://localhost:8080/"
        },
        "id": "cZ7J8-82XMF1",
        "outputId": "cb200dad-20a9-4473-db54-541e08b72f5f"
      }
    },
    {
      "cell_type": "code",
      "execution_count": 32,
      "source": [
        "!pip install midiutil"
      ],
      "outputs": [
        {
          "output_type": "stream",
          "name": "stdout",
          "text": [
            "Requirement already satisfied: midiutil in /usr/local/lib/python3.7/dist-packages (1.2.1)\n"
          ]
        }
      ],
      "metadata": {
        "colab": {
          "base_uri": "https://localhost:8080/"
        },
        "id": "Su38BL8FXWGi",
        "outputId": "82ada003-c543-48b2-ad4e-1421909858bc"
      }
    },
    {
      "cell_type": "code",
      "execution_count": 33,
      "source": [
        "from midiutil.MidiFile import MIDIFile\r\n",
        "\r\n",
        "mf = MIDIFile(1)\r\n",
        "track = 0   \r\n",
        "time = 0\r\n",
        "delta = 0.000005\r\n",
        "mf.addTrackName(track, time, \"Output\")\r\n",
        "mf.addTempo(track, time, 120)\r\n",
        "\r\n",
        "channel = 0\r\n",
        "volume = 100\r\n",
        "duration = 0.01 \r\n",
        "\r\n",
        "for i in range(10000):   \r\n",
        "    time=time + i*delta\r\n",
        "    for j in range(arr2.shape[1]):\r\n",
        "        if X[i][j] == 1:\r\n",
        "            pitch = j\r\n",
        "            mf.addNote(track, channel, pitch, time, duration, volume)\r\n"
      ],
      "outputs": [],
      "metadata": {
        "id": "A9futyqCXW8P"
      }
    },
    {
      "cell_type": "code",
      "execution_count": 34,
      "source": [
        "#generate the MIDI file for y_test_pred\r\n",
        "with open(\"output_final.mid\", 'wb') as outf:\r\n",
        "    mf.writeFile(outf)"
      ],
      "outputs": [],
      "metadata": {
        "id": "XMw5So8UtCKB"
      }
    },
    {
      "cell_type": "code",
      "execution_count": 35,
      "source": [
        "!pip install pretty_midi"
      ],
      "outputs": [
        {
          "output_type": "stream",
          "name": "stdout",
          "text": [
            "Requirement already satisfied: pretty_midi in /usr/local/lib/python3.7/dist-packages (0.2.9)\n",
            "Requirement already satisfied: six in /usr/local/lib/python3.7/dist-packages (from pretty_midi) (1.15.0)\n",
            "Requirement already satisfied: numpy>=1.7.0 in /usr/local/lib/python3.7/dist-packages (from pretty_midi) (1.19.5)\n",
            "Requirement already satisfied: mido>=1.1.16 in /usr/local/lib/python3.7/dist-packages (from pretty_midi) (1.2.10)\n"
          ]
        }
      ],
      "metadata": {
        "colab": {
          "base_uri": "https://localhost:8080/"
        },
        "id": "IVa3HkOuXZ9E",
        "outputId": "b057fb15-c680-449f-e4b5-98b305f03a09"
      }
    },
    {
      "cell_type": "code",
      "execution_count": 49,
      "source": [
        "import pretty_midi\r\n",
        "import pandas as pd\r\n",
        "path = \"output_final.mid\"\r\n",
        "midi_data = pretty_midi.PrettyMIDI(path)\r\n",
        "midi_list = []\r\n",
        "\r\n",
        "pretty_midi.pretty_midi.MAX_TICK = 1e10\r\n",
        "midi_data.tick_to_time(14325216)\r\n",
        "\r\n",
        "for instrument in midi_data.instruments:\r\n",
        "    for note in instrument.notes:\r\n",
        "        start = note.start\r\n",
        "        end = note.end\r\n",
        "        pitch = note.pitch\r\n",
        "        velocity = note.velocity\r\n",
        "        midi_list.append([start, end, pitch, velocity, instrument.name])\r\n",
        "        \r\n",
        "midi_list = sorted(midi_list, key=lambda x: (x[0], x[2]))\r\n",
        "\r\n",
        "df = pd.DataFrame(midi_list, columns=['Start', 'End', 'Pitch', 'Velocity', 'Instrument'])\r\n",
        "\r\n",
        "print(df)"
      ],
      "outputs": [
        {
          "output_type": "stream",
          "name": "stdout",
          "text": [
            "          Start         End  Pitch  Velocity Instrument\n",
            "0        0.0000    0.000521     16       100     Output\n",
            "1        0.0000    0.004687     23       100     Output\n",
            "2        0.0000    0.000521     28       100     Output\n",
            "3        0.0000    0.004687     32       100     Output\n",
            "4        0.0000    0.000521     35       100     Output\n",
            "...         ...         ...    ...       ...        ...\n",
            "65485  124.9875  124.992188     45       100     Output\n",
            "65486  124.9875  124.992188     48       100     Output\n",
            "65487  124.9875  124.992188     51       100     Output\n",
            "65488  124.9875  124.992188     54       100     Output\n",
            "65489  124.9875  124.992188     57       100     Output\n",
            "\n",
            "[65490 rows x 5 columns]\n"
          ]
        }
      ],
      "metadata": {
        "colab": {
          "base_uri": "https://localhost:8080/"
        },
        "id": "GVxuYJI_XcY-",
        "outputId": "646d1a63-f34b-4f92-9c14-423ed241ca55"
      }
    },
    {
      "cell_type": "code",
      "execution_count": 50,
      "source": [
        "fig, ax = plt.subplots()\r\n",
        "\r\n",
        "i = 0\r\n",
        "while(i<65490) :\r\n",
        "    start = float(midi_list[i][0])\r\n",
        "    pitch = float(midi_list[i][2])\r\n",
        "    duration = float(midi_list[i][1]-midi_list[i][0])\r\n",
        "    rect = matplotlib.patches.Rectangle((start, pitch),duration, 1, ec='black', linewidth=1)\r\n",
        "    ax.add_patch(rect)\r\n",
        "    i+=1\r\n",
        "  \r\n",
        "\r\n",
        "plt.xlim([0, 130])\r\n",
        "plt.ylim([0, 88])\r\n",
        "\r\n",
        "plt.grid(color='grey',linewidth=1)\r\n",
        "\r\n",
        "print('From Model')\r\n",
        "plt.show()"
      ],
      "outputs": [
        {
          "output_type": "stream",
          "name": "stdout",
          "text": [
            "From Model\n"
          ]
        },
        {
          "output_type": "display_data",
          "data": {
            "text/plain": [
              "<Figure size 432x288 with 1 Axes>"
            ],
            "image/png": "[encoded data removed]"
          },
          "metadata": {
            "tags": [],
            "needs_background": "light"
          }
        }
      ],
      "metadata": {
        "colab": {
          "base_uri": "https://localhost:8080/",
          "height": 283
        },
        "id": "3nSlxNnHXpu7",
        "outputId": "3c62a9a5-6fc9-4092-fb18-afc78a3d5a0d"
      }
    },
    {
      "cell_type": "code",
      "execution_count": 38,
      "source": [
        "#Now we generate the piano roll from y_test to check if it matches with the prediction\r\n",
        "arr3 = np.load('/content/drive/MyDrive/y_test.npy')\r\n",
        "arr3=np.squeeze(arr3, axis=-2)\r\n",
        "print(np.shape(arr3))"
      ],
      "outputs": [
        {
          "output_type": "stream",
          "name": "stdout",
          "text": [
            "(7136, 38, 88)\n"
          ]
        }
      ],
      "metadata": {
        "colab": {
          "base_uri": "https://localhost:8080/"
        },
        "id": "JW38_pX3azpC",
        "outputId": "b39647cb-4750-492b-ebfd-42dfb5205518"
      }
    },
    {
      "cell_type": "code",
      "execution_count": 39,
      "source": [
        "#again backtracking to comvert 3D array to 2D\r\n",
        "X2=[]\r\n",
        "i=0\r\n",
        "for i in range(7136):\r\n",
        "  if i==0:\r\n",
        "    X2=arr3[0]\r\n",
        "  else:\r\n",
        "    X2=np.concatenate((X2, arr3[i]), axis=0)\r\n",
        "print(X2.shape)"
      ],
      "outputs": [
        {
          "output_type": "stream",
          "name": "stdout",
          "text": [
            "(271168, 88)\n"
          ]
        }
      ],
      "metadata": {
        "colab": {
          "base_uri": "https://localhost:8080/"
        },
        "id": "uNyysS4Qa_Vr",
        "outputId": "5307dbfa-97d5-4a8d-9a9c-5d3111309e2b"
      }
    },
    {
      "cell_type": "code",
      "execution_count": 40,
      "source": [
        "#converting boolean to binary matrix with entries 0 and 1\r\n",
        "arr4 = np.empty((271168, 88), dtype = int) \r\n",
        "for i in range(X2.shape[0]):\r\n",
        "    for j in range(X.shape[1]):\r\n",
        "        if X2[i,j]==False:\r\n",
        "            arr4[i,j]=int(0)\r\n",
        "            int(arr4[i,j])\r\n",
        "        elif X2[i,j]==True:\r\n",
        "            arr4[i,j]=int(1)\r\n",
        "\r\n",
        "         \r\n",
        "print(arr4)"
      ],
      "outputs": [
        {
          "output_type": "stream",
          "name": "stdout",
          "text": [
            "[[0 0 0 ... 0 0 0]\n",
            " [0 0 0 ... 0 0 0]\n",
            " [0 0 0 ... 0 0 0]\n",
            " ...\n",
            " [0 0 0 ... 0 0 0]\n",
            " [0 0 0 ... 0 0 0]\n",
            " [0 0 0 ... 0 0 0]]\n"
          ]
        }
      ],
      "metadata": {
        "colab": {
          "base_uri": "https://localhost:8080/"
        },
        "id": "cJZPQrhobCgL",
        "outputId": "e879c0a5-b01d-4602-eb46-0a866df390f7"
      }
    },
    {
      "cell_type": "code",
      "execution_count": null,
      "source": [
        "print(np.count_nonzero(arr4))"
      ],
      "outputs": [],
      "metadata": {
        "id": "qF_lbBmBbDCV"
      }
    },
    {
      "cell_type": "code",
      "execution_count": 42,
      "source": [
        "mf = MIDIFile(1)\r\n",
        "track = 0   \r\n",
        "time = 0\r\n",
        "delta = 0.000005\r\n",
        "mf.addTrackName(track, time, \"Output\")\r\n",
        "mf.addTempo(track, time, 120)\r\n",
        "\r\n",
        "channel = 0\r\n",
        "volume = 100\r\n",
        "duration = 0.01 \r\n",
        "\r\n",
        "for i in range(10000):   \r\n",
        "    time=time + i*delta\r\n",
        "    for j in range(arr4.shape[1]):\r\n",
        "        if X2[i][j] == 1:\r\n",
        "            pitch = j\r\n",
        "            mf.addNote(track, channel, pitch, time, duration, volume)\r\n"
      ],
      "outputs": [],
      "metadata": {
        "id": "WC90zDMfbHix"
      }
    },
    {
      "cell_type": "code",
      "execution_count": 43,
      "source": [
        "with open(\"output_final_actual.mid\", 'wb') as outf:\r\n",
        "    mf.writeFile(outf)"
      ],
      "outputs": [],
      "metadata": {
        "id": "CjVUMkW9bKgT"
      }
    },
    {
      "cell_type": "code",
      "execution_count": 44,
      "source": [
        "path = \"output_final_actual.mid\"\r\n",
        "midi_data = pretty_midi.PrettyMIDI(path)\r\n",
        "midi_list = []\r\n",
        "\r\n",
        "pretty_midi.pretty_midi.MAX_TICK = 1e10\r\n",
        "midi_data.tick_to_time(14325216)\r\n",
        "\r\n",
        "for instrument in midi_data.instruments:\r\n",
        "    for note in instrument.notes:\r\n",
        "        start = note.start\r\n",
        "        end = note.end\r\n",
        "        pitch = note.pitch\r\n",
        "        velocity = note.velocity\r\n",
        "        midi_list.append([start, end, pitch, velocity, instrument.name])\r\n",
        "        \r\n",
        "midi_list = sorted(midi_list, key=lambda x: (x[0], x[2]))\r\n",
        "\r\n",
        "df = pd.DataFrame(midi_list, columns=['Start', 'End', 'Pitch', 'Velocity', 'Instrument'])\r\n",
        "\r\n",
        "print(df)"
      ],
      "outputs": [
        {
          "output_type": "stream",
          "name": "stdout",
          "text": [
            "            Start         End  Pitch  Velocity Instrument\n",
            "0        0.000000    0.004687     43       100     Output\n",
            "1        0.000000    0.000521     44       100     Output\n",
            "2        0.000000    0.000521     48       100     Output\n",
            "3        0.000000    0.000521     60       100     Output\n",
            "4        0.000521    0.005208     44       100     Output\n",
            "...           ...         ...    ...       ...        ...\n",
            "46431  124.962500  124.967187     49       100     Output\n",
            "46432  124.962500  124.967187     52       100     Output\n",
            "46433  124.987500  124.992188     44       100     Output\n",
            "46434  124.987500  124.992188     49       100     Output\n",
            "46435  124.987500  124.992188     52       100     Output\n",
            "\n",
            "[46436 rows x 5 columns]\n"
          ]
        }
      ],
      "metadata": {
        "colab": {
          "base_uri": "https://localhost:8080/"
        },
        "id": "jSiHR42tbQlw",
        "outputId": "00a8a8ef-add0-4f70-983d-5ee576f3d2db"
      }
    },
    {
      "cell_type": "code",
      "execution_count": 46,
      "source": [
        "fig, ax = plt.subplots()\r\n",
        "\r\n",
        "i = 0\r\n",
        "while(i<46436) :\r\n",
        "    start = float(midi_list[i][0])\r\n",
        "    pitch = float(midi_list[i][2])\r\n",
        "    duration = float(midi_list[i][1]-midi_list[i][0])\r\n",
        "    rect = matplotlib.patches.Rectangle((start, pitch),duration, 1, ec='black', linewidth=1)\r\n",
        "    ax.add_patch(rect)\r\n",
        "    i+=1\r\n",
        "  \r\n",
        "\r\n",
        "plt.xlim([0, 130])\r\n",
        "plt.ylim([0, 88])\r\n",
        "\r\n",
        "plt.grid(color='grey',linewidth=1)\r\n",
        "\r\n",
        "print('Actual')\r\n",
        "plt.show()"
      ],
      "outputs": [
        {
          "output_type": "stream",
          "name": "stdout",
          "text": [
            "Actual\n"
          ]
        },
        {
          "output_type": "display_data",
          "data": {
            "text/plain": [
              "<Figure size 432x288 with 1 Axes>"
            ],
            "image/png": "[encoded data removed]"
          },
          "metadata": {
            "tags": [],
            "needs_background": "light"
          }
        }
      ],
      "metadata": {
        "colab": {
          "base_uri": "https://localhost:8080/",
          "height": 283
        },
        "id": "YHHCMsWVbTer",
        "outputId": "e98fc038-f7ac-489c-8700-ab1b17e809dd"
      }
    }
  ]
}